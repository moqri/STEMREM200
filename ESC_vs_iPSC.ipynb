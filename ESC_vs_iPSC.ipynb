{
  "nbformat": 4,
  "nbformat_minor": 0,
  "metadata": {
    "colab": {
      "name": "ESC_vs_iPSC.ipynb",
      "provenance": [],
      "authorship_tag": "ABX9TyNRaVb6o5Bx0yUkMzH6sw4E",
      "include_colab_link": true
    },
    "kernelspec": {
      "name": "python3",
      "display_name": "Python 3"
    },
    "language_info": {
      "name": "python"
    }
  },
  "cells": [
    {
      "cell_type": "markdown",
      "metadata": {
        "id": "view-in-github",
        "colab_type": "text"
      },
      "source": [
        "<a href=\"https://colab.research.google.com/github/moqri/STEMREM200/blob/main/ESC_vs_iPSC.ipynb\" target=\"_parent\"><img src=\"https://colab.research.google.com/assets/colab-badge.svg\" alt=\"Open In Colab\"/></a>"
      ]
    },
    {
      "cell_type": "code",
      "metadata": {
        "id": "abrbWd3M7Skt"
      },
      "source": [
        "#import required packages\n",
        "import pandas as pd\n",
        "import numpy as np"
      ],
      "execution_count": 1,
      "outputs": []
    },
    {
      "cell_type": "code",
      "metadata": {
        "id": "dItvCvMj9f1K"
      },
      "source": [
        "#URL adress of RNA-seq data file\n",
        "rna_seq_file='https://ftp.ncbi.nlm.nih.gov/geo/series/GSE73nnn/GSE73211/suppl/GSE73211_isogenic.TPM.txt.gz'"
      ],
      "execution_count": 2,
      "outputs": []
    },
    {
      "cell_type": "code",
      "metadata": {
        "id": "j_Sr_7tp9FEx"
      },
      "source": [
        "#read the file\n",
        "tpm=pd.read_table(rna_seq_file)"
      ],
      "execution_count": 3,
      "outputs": []
    },
    {
      "cell_type": "code",
      "metadata": {
        "colab": {
          "base_uri": "https://localhost:8080/",
          "height": 275
        },
        "id": "GfhWsLT89kJo",
        "outputId": "f5d0cf05-5ace-4845-9e0d-fe97457c6995"
      },
      "source": [
        "# show the top 5 rows\n",
        "tpm.head(5)"
      ],
      "execution_count": 4,
      "outputs": [
        {
          "output_type": "execute_result",
          "data": {
            "text/html": [
              "<div>\n",
              "<style scoped>\n",
              "    .dataframe tbody tr th:only-of-type {\n",
              "        vertical-align: middle;\n",
              "    }\n",
              "\n",
              "    .dataframe tbody tr th {\n",
              "        vertical-align: top;\n",
              "    }\n",
              "\n",
              "    .dataframe thead th {\n",
              "        text-align: right;\n",
              "    }\n",
              "</style>\n",
              "<table border=\"1\" class=\"dataframe\">\n",
              "  <thead>\n",
              "    <tr style=\"text-align: right;\">\n",
              "      <th></th>\n",
              "      <th>symbol</th>\n",
              "      <th>hESC SC2-1</th>\n",
              "      <th>hESC SC2-2</th>\n",
              "      <th>hESC SC2-3</th>\n",
              "      <th>hESC SC3-1</th>\n",
              "      <th>hESC SC3-2</th>\n",
              "      <th>hESC SC3-3</th>\n",
              "      <th>hESC GFP12</th>\n",
              "      <th>hESC GFP13</th>\n",
              "      <th>hESC GFP5</th>\n",
              "      <th>hESC GFP2</th>\n",
              "      <th>hESC GFP3</th>\n",
              "      <th>hESC GFP15</th>\n",
              "      <th>hiPSC1</th>\n",
              "      <th>hiPSC2</th>\n",
              "      <th>hiPSC3</th>\n",
              "      <th>hiPSC8</th>\n",
              "      <th>hiPSC9</th>\n",
              "      <th>hiPSC11</th>\n",
              "      <th>hESC SC2-6 Fibroblast</th>\n",
              "      <th>hESC SC3-6 Fibroblast</th>\n",
              "      <th>hESC GFP5 Fibroblast</th>\n",
              "      <th>hESC GFP12 Fibroblast</th>\n",
              "      <th>hESC GFP13 Fibroblast</th>\n",
              "      <th>hESC GFP2 Fibroblast</th>\n",
              "      <th>hESC GFP3 Fibroblast</th>\n",
              "      <th>hESC GFP15Fibroblast</th>\n",
              "      <th>hiPSC1 Fibroblast</th>\n",
              "      <th>hiPSC2 Fibroblast</th>\n",
              "      <th>hiPSC3 Fibroblast</th>\n",
              "      <th>hiPSC8 Fibroblast</th>\n",
              "      <th>hiPSC9 Fibroblast</th>\n",
              "      <th>hiPSC11 Fibroblast</th>\n",
              "      <th>Human_Dermal_Fibroblast</th>\n",
              "    </tr>\n",
              "  </thead>\n",
              "  <tbody>\n",
              "    <tr>\n",
              "      <th>RP11-560A15.3</th>\n",
              "      <td>RP11-560A15.3</td>\n",
              "      <td>0.000000</td>\n",
              "      <td>0.000000</td>\n",
              "      <td>0.000000</td>\n",
              "      <td>0.000000</td>\n",
              "      <td>0.000000</td>\n",
              "      <td>0.000000</td>\n",
              "      <td>0.000000</td>\n",
              "      <td>0.000000</td>\n",
              "      <td>0.000000</td>\n",
              "      <td>0.000000</td>\n",
              "      <td>0.000000</td>\n",
              "      <td>0.000000</td>\n",
              "      <td>0.096714</td>\n",
              "      <td>0.000000</td>\n",
              "      <td>0.000000</td>\n",
              "      <td>0.000000</td>\n",
              "      <td>0.000000</td>\n",
              "      <td>0.000000</td>\n",
              "      <td>0.000000</td>\n",
              "      <td>0.000000</td>\n",
              "      <td>0.000000</td>\n",
              "      <td>0.000000</td>\n",
              "      <td>0.000000</td>\n",
              "      <td>0.000000</td>\n",
              "      <td>0.000000</td>\n",
              "      <td>0.000000</td>\n",
              "      <td>0.000000</td>\n",
              "      <td>0.000000</td>\n",
              "      <td>0.000000</td>\n",
              "      <td>0.000000</td>\n",
              "      <td>0.000000</td>\n",
              "      <td>0.000000</td>\n",
              "      <td>0.000000</td>\n",
              "    </tr>\n",
              "    <tr>\n",
              "      <th>CREB3L1</th>\n",
              "      <td>CREB3L1</td>\n",
              "      <td>11.098906</td>\n",
              "      <td>11.439167</td>\n",
              "      <td>12.447480</td>\n",
              "      <td>6.886064</td>\n",
              "      <td>5.653596</td>\n",
              "      <td>6.754446</td>\n",
              "      <td>11.012172</td>\n",
              "      <td>7.621126</td>\n",
              "      <td>11.815619</td>\n",
              "      <td>5.705730</td>\n",
              "      <td>6.752222</td>\n",
              "      <td>6.313430</td>\n",
              "      <td>8.918602</td>\n",
              "      <td>7.025237</td>\n",
              "      <td>7.302625</td>\n",
              "      <td>4.775793</td>\n",
              "      <td>5.126329</td>\n",
              "      <td>7.543497</td>\n",
              "      <td>157.914551</td>\n",
              "      <td>141.662122</td>\n",
              "      <td>146.480745</td>\n",
              "      <td>154.934558</td>\n",
              "      <td>156.101432</td>\n",
              "      <td>166.712614</td>\n",
              "      <td>75.783944</td>\n",
              "      <td>186.238609</td>\n",
              "      <td>184.953022</td>\n",
              "      <td>163.270489</td>\n",
              "      <td>165.383381</td>\n",
              "      <td>167.468506</td>\n",
              "      <td>154.316037</td>\n",
              "      <td>173.675876</td>\n",
              "      <td>193.024389</td>\n",
              "    </tr>\n",
              "    <tr>\n",
              "      <th>RPS11</th>\n",
              "      <td>RPS11</td>\n",
              "      <td>3385.358989</td>\n",
              "      <td>3250.811157</td>\n",
              "      <td>3301.984295</td>\n",
              "      <td>2840.934509</td>\n",
              "      <td>2839.811164</td>\n",
              "      <td>2845.844446</td>\n",
              "      <td>3293.581132</td>\n",
              "      <td>3128.847523</td>\n",
              "      <td>3421.976296</td>\n",
              "      <td>3164.825934</td>\n",
              "      <td>3191.008986</td>\n",
              "      <td>3183.825373</td>\n",
              "      <td>2992.518992</td>\n",
              "      <td>2916.881794</td>\n",
              "      <td>2776.073933</td>\n",
              "      <td>2794.567964</td>\n",
              "      <td>2654.561686</td>\n",
              "      <td>2689.002242</td>\n",
              "      <td>2376.828835</td>\n",
              "      <td>2737.801658</td>\n",
              "      <td>2227.060103</td>\n",
              "      <td>2247.409559</td>\n",
              "      <td>2271.218661</td>\n",
              "      <td>3204.946239</td>\n",
              "      <td>2427.181734</td>\n",
              "      <td>2449.621520</td>\n",
              "      <td>2155.456392</td>\n",
              "      <td>2114.136652</td>\n",
              "      <td>2189.466240</td>\n",
              "      <td>2795.025142</td>\n",
              "      <td>2962.811335</td>\n",
              "      <td>3046.407602</td>\n",
              "      <td>2769.592246</td>\n",
              "    </tr>\n",
              "    <tr>\n",
              "      <th>RP11-783L4.1</th>\n",
              "      <td>RP11-783L4.1</td>\n",
              "      <td>0.000000</td>\n",
              "      <td>0.000000</td>\n",
              "      <td>0.280735</td>\n",
              "      <td>0.000000</td>\n",
              "      <td>0.000000</td>\n",
              "      <td>0.000000</td>\n",
              "      <td>0.000000</td>\n",
              "      <td>0.000000</td>\n",
              "      <td>0.192976</td>\n",
              "      <td>0.000000</td>\n",
              "      <td>0.000000</td>\n",
              "      <td>0.000000</td>\n",
              "      <td>0.000000</td>\n",
              "      <td>0.000000</td>\n",
              "      <td>0.000000</td>\n",
              "      <td>0.000000</td>\n",
              "      <td>0.000000</td>\n",
              "      <td>0.000000</td>\n",
              "      <td>0.000000</td>\n",
              "      <td>0.000000</td>\n",
              "      <td>0.000000</td>\n",
              "      <td>0.166557</td>\n",
              "      <td>0.000000</td>\n",
              "      <td>0.000000</td>\n",
              "      <td>0.000000</td>\n",
              "      <td>0.000000</td>\n",
              "      <td>0.000000</td>\n",
              "      <td>0.000000</td>\n",
              "      <td>0.000000</td>\n",
              "      <td>0.000000</td>\n",
              "      <td>0.000000</td>\n",
              "      <td>0.000000</td>\n",
              "      <td>0.000000</td>\n",
              "    </tr>\n",
              "    <tr>\n",
              "      <th>PNMA1</th>\n",
              "      <td>PNMA1</td>\n",
              "      <td>33.511536</td>\n",
              "      <td>35.089531</td>\n",
              "      <td>34.163900</td>\n",
              "      <td>34.900165</td>\n",
              "      <td>29.989708</td>\n",
              "      <td>27.379224</td>\n",
              "      <td>39.504944</td>\n",
              "      <td>37.978849</td>\n",
              "      <td>42.192685</td>\n",
              "      <td>35.687738</td>\n",
              "      <td>38.812193</td>\n",
              "      <td>35.485875</td>\n",
              "      <td>41.785477</td>\n",
              "      <td>41.022740</td>\n",
              "      <td>43.549380</td>\n",
              "      <td>34.423147</td>\n",
              "      <td>36.400383</td>\n",
              "      <td>40.357450</td>\n",
              "      <td>42.440364</td>\n",
              "      <td>47.955205</td>\n",
              "      <td>39.200304</td>\n",
              "      <td>41.035460</td>\n",
              "      <td>36.300716</td>\n",
              "      <td>32.742141</td>\n",
              "      <td>69.642335</td>\n",
              "      <td>50.944324</td>\n",
              "      <td>35.721668</td>\n",
              "      <td>44.414922</td>\n",
              "      <td>37.550163</td>\n",
              "      <td>42.315535</td>\n",
              "      <td>48.492435</td>\n",
              "      <td>47.892198</td>\n",
              "      <td>34.528598</td>\n",
              "    </tr>\n",
              "  </tbody>\n",
              "</table>\n",
              "</div>"
            ],
            "text/plain": [
              "                      symbol  ...  Human_Dermal_Fibroblast\n",
              "RP11-560A15.3  RP11-560A15.3  ...                 0.000000\n",
              "CREB3L1              CREB3L1  ...               193.024389\n",
              "RPS11                  RPS11  ...              2769.592246\n",
              "RP11-783L4.1    RP11-783L4.1  ...                 0.000000\n",
              "PNMA1                  PNMA1  ...                34.528598\n",
              "\n",
              "[5 rows x 34 columns]"
            ]
          },
          "metadata": {
            "tags": []
          },
          "execution_count": 4
        }
      ]
    },
    {
      "cell_type": "code",
      "metadata": {
        "colab": {
          "base_uri": "https://localhost:8080/",
          "height": 204
        },
        "id": "_TtC6ikw9nyQ",
        "outputId": "8c0230ea-e94c-4542-d403-01a6a125de3a"
      },
      "source": [
        "#limit the data to one ESC and one iPSC sample\n",
        "esc='hESC SC2-1'\n",
        "ipsc='hiPSC1'\n",
        "tpm2=tpm[[esc,ipsc]]\n",
        "tpm2.head(5)"
      ],
      "execution_count": 5,
      "outputs": [
        {
          "output_type": "execute_result",
          "data": {
            "text/html": [
              "<div>\n",
              "<style scoped>\n",
              "    .dataframe tbody tr th:only-of-type {\n",
              "        vertical-align: middle;\n",
              "    }\n",
              "\n",
              "    .dataframe tbody tr th {\n",
              "        vertical-align: top;\n",
              "    }\n",
              "\n",
              "    .dataframe thead th {\n",
              "        text-align: right;\n",
              "    }\n",
              "</style>\n",
              "<table border=\"1\" class=\"dataframe\">\n",
              "  <thead>\n",
              "    <tr style=\"text-align: right;\">\n",
              "      <th></th>\n",
              "      <th>hESC SC2-1</th>\n",
              "      <th>hiPSC1</th>\n",
              "    </tr>\n",
              "  </thead>\n",
              "  <tbody>\n",
              "    <tr>\n",
              "      <th>RP11-560A15.3</th>\n",
              "      <td>0.000000</td>\n",
              "      <td>0.096714</td>\n",
              "    </tr>\n",
              "    <tr>\n",
              "      <th>CREB3L1</th>\n",
              "      <td>11.098906</td>\n",
              "      <td>8.918602</td>\n",
              "    </tr>\n",
              "    <tr>\n",
              "      <th>RPS11</th>\n",
              "      <td>3385.358989</td>\n",
              "      <td>2992.518992</td>\n",
              "    </tr>\n",
              "    <tr>\n",
              "      <th>RP11-783L4.1</th>\n",
              "      <td>0.000000</td>\n",
              "      <td>0.000000</td>\n",
              "    </tr>\n",
              "    <tr>\n",
              "      <th>PNMA1</th>\n",
              "      <td>33.511536</td>\n",
              "      <td>41.785477</td>\n",
              "    </tr>\n",
              "  </tbody>\n",
              "</table>\n",
              "</div>"
            ],
            "text/plain": [
              "                hESC SC2-1       hiPSC1\n",
              "RP11-560A15.3     0.000000     0.096714\n",
              "CREB3L1          11.098906     8.918602\n",
              "RPS11          3385.358989  2992.518992\n",
              "RP11-783L4.1      0.000000     0.000000\n",
              "PNMA1            33.511536    41.785477"
            ]
          },
          "metadata": {
            "tags": []
          },
          "execution_count": 5
        }
      ]
    },
    {
      "cell_type": "code",
      "metadata": {
        "colab": {
          "base_uri": "https://localhost:8080/",
          "height": 282
        },
        "id": "ZdLMxijJ-Icn",
        "outputId": "782d1e4b-e38d-4371-e9d8-f1b539d62b7f"
      },
      "source": [
        "#plot the ESC transcript frequencies (TPM)\n",
        "tpm2[esc].plot()"
      ],
      "execution_count": 6,
      "outputs": [
        {
          "output_type": "execute_result",
          "data": {
            "text/plain": [
              "<matplotlib.axes._subplots.AxesSubplot at 0x7f5529de6f50>"
            ]
          },
          "metadata": {
            "tags": []
          },
          "execution_count": 6
        },
        {
          "output_type": "display_data",
          "data": {
            "image/png": "[encoded data removed]",
            "text/plain": [
              "<Figure size 432x288 with 1 Axes>"
            ]
          },
          "metadata": {
            "tags": [],
            "needs_background": "light"
          }
        }
      ]
    },
    {
      "cell_type": "code",
      "metadata": {
        "colab": {
          "base_uri": "https://localhost:8080/",
          "height": 282
        },
        "id": "dnP6o7oP-MYg",
        "outputId": "f668c872-97a4-4e36-8647-a21816813187"
      },
      "source": [
        "#plot the iPSC transcript frequencies (TPM)\n",
        "tpm2[ipsc].plot()"
      ],
      "execution_count": 7,
      "outputs": [
        {
          "output_type": "execute_result",
          "data": {
            "text/plain": [
              "<matplotlib.axes._subplots.AxesSubplot at 0x7f552f2d2d10>"
            ]
          },
          "metadata": {
            "tags": []
          },
          "execution_count": 7
        },
        {
          "output_type": "display_data",
          "data": {
            "image/png": "[encoded data removed]",
            "text/plain": [
              "<Figure size 432x288 with 1 Axes>"
            ]
          },
          "metadata": {
            "tags": [],
            "needs_background": "light"
          }
        }
      ]
    },
    {
      "cell_type": "code",
      "metadata": {
        "colab": {
          "base_uri": "https://localhost:8080/",
          "height": 296
        },
        "id": "4wy_LaqmtWKM",
        "outputId": "3286f716-1ea0-43b1-f251-ad29701fd65d"
      },
      "source": [
        "#Compare ESC and iPSC using scatter plot\n",
        "tpm2.plot.scatter(esc,ipsc)"
      ],
      "execution_count": 8,
      "outputs": [
        {
          "output_type": "execute_result",
          "data": {
            "text/plain": [
              "<matplotlib.axes._subplots.AxesSubplot at 0x7f5529746f50>"
            ]
          },
          "metadata": {
            "tags": []
          },
          "execution_count": 8
        },
        {
          "output_type": "display_data",
          "data": {
            "image/png": "[encoded data removed]",
            "text/plain": [
              "<Figure size 432x288 with 1 Axes>"
            ]
          },
          "metadata": {
            "tags": [],
            "needs_background": "light"
          }
        }
      ]
    },
    {
      "cell_type": "code",
      "metadata": {
        "colab": {
          "base_uri": "https://localhost:8080/",
          "height": 296
        },
        "id": "CbasaQeavJqc",
        "outputId": "1a131243-e439-4936-d413-f8eb7580fd32"
      },
      "source": [
        "#Log transform TPM data\n",
        "tpm3=np.log10(tpm2+1)\n",
        "tpm3.plot.scatter(esc,ipsc)"
      ],
      "execution_count": 9,
      "outputs": [
        {
          "output_type": "execute_result",
          "data": {
            "text/plain": [
              "<matplotlib.axes._subplots.AxesSubplot at 0x7f5529cc8ad0>"
            ]
          },
          "metadata": {
            "tags": []
          },
          "execution_count": 9
        },
        {
          "output_type": "display_data",
          "data": {
            "image/png": "[encoded data removed]",
            "text/plain": [
              "<Figure size 432x288 with 1 Axes>"
            ]
          },
          "metadata": {
            "tags": [],
            "needs_background": "light"
          }
        }
      ]
    },
    {
      "cell_type": "code",
      "metadata": {
        "colab": {
          "base_uri": "https://localhost:8080/",
          "height": 359
        },
        "id": "gghRhMI5-X1_",
        "outputId": "a70fcda9-e495-45cf-8bd8-311b55af673f"
      },
      "source": [
        "#show the most abondant transcripts \n",
        "tpm3.sort_values(esc).tail(10)"
      ],
      "execution_count": 10,
      "outputs": [
        {
          "output_type": "execute_result",
          "data": {
            "text/html": [
              "<div>\n",
              "<style scoped>\n",
              "    .dataframe tbody tr th:only-of-type {\n",
              "        vertical-align: middle;\n",
              "    }\n",
              "\n",
              "    .dataframe tbody tr th {\n",
              "        vertical-align: top;\n",
              "    }\n",
              "\n",
              "    .dataframe thead th {\n",
              "        text-align: right;\n",
              "    }\n",
              "</style>\n",
              "<table border=\"1\" class=\"dataframe\">\n",
              "  <thead>\n",
              "    <tr style=\"text-align: right;\">\n",
              "      <th></th>\n",
              "      <th>hESC SC2-1</th>\n",
              "      <th>hiPSC1</th>\n",
              "    </tr>\n",
              "  </thead>\n",
              "  <tbody>\n",
              "    <tr>\n",
              "      <th>RP5-857K21.10</th>\n",
              "      <td>3.718534</td>\n",
              "      <td>3.818405</td>\n",
              "    </tr>\n",
              "    <tr>\n",
              "      <th>RPL41</th>\n",
              "      <td>3.718539</td>\n",
              "      <td>3.688167</td>\n",
              "    </tr>\n",
              "    <tr>\n",
              "      <th>NPM1</th>\n",
              "      <td>3.718611</td>\n",
              "      <td>3.702695</td>\n",
              "    </tr>\n",
              "    <tr>\n",
              "      <th>RPL39</th>\n",
              "      <td>3.722462</td>\n",
              "      <td>3.611232</td>\n",
              "    </tr>\n",
              "    <tr>\n",
              "      <th>RPS27</th>\n",
              "      <td>3.737267</td>\n",
              "      <td>3.681179</td>\n",
              "    </tr>\n",
              "    <tr>\n",
              "      <th>TMSB4X</th>\n",
              "      <td>3.758671</td>\n",
              "      <td>3.694026</td>\n",
              "    </tr>\n",
              "    <tr>\n",
              "      <th>GAPDH</th>\n",
              "      <td>3.833517</td>\n",
              "      <td>3.784538</td>\n",
              "    </tr>\n",
              "    <tr>\n",
              "      <th>RPS24</th>\n",
              "      <td>3.842941</td>\n",
              "      <td>3.763581</td>\n",
              "    </tr>\n",
              "    <tr>\n",
              "      <th>RP5-857K21.6</th>\n",
              "      <td>3.999337</td>\n",
              "      <td>3.933613</td>\n",
              "    </tr>\n",
              "    <tr>\n",
              "      <th>EEF1A1</th>\n",
              "      <td>4.167475</td>\n",
              "      <td>4.067571</td>\n",
              "    </tr>\n",
              "  </tbody>\n",
              "</table>\n",
              "</div>"
            ],
            "text/plain": [
              "               hESC SC2-1    hiPSC1\n",
              "RP5-857K21.10    3.718534  3.818405\n",
              "RPL41            3.718539  3.688167\n",
              "NPM1             3.718611  3.702695\n",
              "RPL39            3.722462  3.611232\n",
              "RPS27            3.737267  3.681179\n",
              "TMSB4X           3.758671  3.694026\n",
              "GAPDH            3.833517  3.784538\n",
              "RPS24            3.842941  3.763581\n",
              "RP5-857K21.6     3.999337  3.933613\n",
              "EEF1A1           4.167475  4.067571"
            ]
          },
          "metadata": {
            "tags": []
          },
          "execution_count": 10
        }
      ]
    },
    {
      "cell_type": "code",
      "metadata": {
        "colab": {
          "base_uri": "https://localhost:8080/"
        },
        "id": "VFzcVSHSrSw7",
        "outputId": "5d340adc-b713-4a8b-d8f3-5f7fbd1fb8c6"
      },
      "source": [
        "#select RPs\n",
        "RPs=tpm3.index.str.startswith('RP')\n",
        "RPs"
      ],
      "execution_count": 11,
      "outputs": [
        {
          "output_type": "execute_result",
          "data": {
            "text/plain": [
              "array([ True, False,  True, ..., False, False,  True])"
            ]
          },
          "metadata": {
            "tags": []
          },
          "execution_count": 11
        }
      ]
    },
    {
      "cell_type": "code",
      "metadata": {
        "colab": {
          "base_uri": "https://localhost:8080/",
          "height": 359
        },
        "id": "2mnMP7strjPj",
        "outputId": "4d5c3509-8925-4454-c502-05dd0f98f29c"
      },
      "source": [
        "#remove RPs\n",
        "tpm4=tpm3[~RPs]\n",
        "tpm4.sort_values(esc).tail(10)"
      ],
      "execution_count": 12,
      "outputs": [
        {
          "output_type": "execute_result",
          "data": {
            "text/html": [
              "<div>\n",
              "<style scoped>\n",
              "    .dataframe tbody tr th:only-of-type {\n",
              "        vertical-align: middle;\n",
              "    }\n",
              "\n",
              "    .dataframe tbody tr th {\n",
              "        vertical-align: top;\n",
              "    }\n",
              "\n",
              "    .dataframe thead th {\n",
              "        text-align: right;\n",
              "    }\n",
              "</style>\n",
              "<table border=\"1\" class=\"dataframe\">\n",
              "  <thead>\n",
              "    <tr style=\"text-align: right;\">\n",
              "      <th></th>\n",
              "      <th>hESC SC2-1</th>\n",
              "      <th>hiPSC1</th>\n",
              "    </tr>\n",
              "  </thead>\n",
              "  <tbody>\n",
              "    <tr>\n",
              "      <th>ACTB</th>\n",
              "      <td>3.434951</td>\n",
              "      <td>3.523705</td>\n",
              "    </tr>\n",
              "    <tr>\n",
              "      <th>ENO1</th>\n",
              "      <td>3.486935</td>\n",
              "      <td>3.380302</td>\n",
              "    </tr>\n",
              "    <tr>\n",
              "      <th>PPIA</th>\n",
              "      <td>3.503430</td>\n",
              "      <td>3.563599</td>\n",
              "    </tr>\n",
              "    <tr>\n",
              "      <th>GNB2L1</th>\n",
              "      <td>3.519038</td>\n",
              "      <td>3.470965</td>\n",
              "    </tr>\n",
              "    <tr>\n",
              "      <th>TPT1</th>\n",
              "      <td>3.571169</td>\n",
              "      <td>3.457785</td>\n",
              "    </tr>\n",
              "    <tr>\n",
              "      <th>HNRNPA1</th>\n",
              "      <td>3.600578</td>\n",
              "      <td>3.584859</td>\n",
              "    </tr>\n",
              "    <tr>\n",
              "      <th>NPM1</th>\n",
              "      <td>3.718611</td>\n",
              "      <td>3.702695</td>\n",
              "    </tr>\n",
              "    <tr>\n",
              "      <th>TMSB4X</th>\n",
              "      <td>3.758671</td>\n",
              "      <td>3.694026</td>\n",
              "    </tr>\n",
              "    <tr>\n",
              "      <th>GAPDH</th>\n",
              "      <td>3.833517</td>\n",
              "      <td>3.784538</td>\n",
              "    </tr>\n",
              "    <tr>\n",
              "      <th>EEF1A1</th>\n",
              "      <td>4.167475</td>\n",
              "      <td>4.067571</td>\n",
              "    </tr>\n",
              "  </tbody>\n",
              "</table>\n",
              "</div>"
            ],
            "text/plain": [
              "         hESC SC2-1    hiPSC1\n",
              "ACTB       3.434951  3.523705\n",
              "ENO1       3.486935  3.380302\n",
              "PPIA       3.503430  3.563599\n",
              "GNB2L1     3.519038  3.470965\n",
              "TPT1       3.571169  3.457785\n",
              "HNRNPA1    3.600578  3.584859\n",
              "NPM1       3.718611  3.702695\n",
              "TMSB4X     3.758671  3.694026\n",
              "GAPDH      3.833517  3.784538\n",
              "EEF1A1     4.167475  4.067571"
            ]
          },
          "metadata": {
            "tags": []
          },
          "execution_count": 12
        }
      ]
    },
    {
      "cell_type": "code",
      "metadata": {
        "colab": {
          "base_uri": "https://localhost:8080/",
          "height": 320
        },
        "id": "MI8qurSc-i2v",
        "outputId": "780c4e0b-c4c1-4647-9328-767d011fdf44"
      },
      "source": [
        "#Plot the most frequent transcripts\n",
        "tpm4.sort_values(esc).tail(10).plot(kind='bar')"
      ],
      "execution_count": 13,
      "outputs": [
        {
          "output_type": "execute_result",
          "data": {
            "text/plain": [
              "<matplotlib.axes._subplots.AxesSubplot at 0x7f55297924d0>"
            ]
          },
          "metadata": {
            "tags": []
          },
          "execution_count": 13
        },
        {
          "output_type": "display_data",
          "data": {
            "image/png": "[encoded data removed]",
            "text/plain": [
              "<Figure size 432x288 with 1 Axes>"
            ]
          },
          "metadata": {
            "tags": [],
            "needs_background": "light"
          }
        }
      ]
    }
  ]
}