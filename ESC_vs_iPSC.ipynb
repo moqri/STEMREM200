{
  "nbformat": 4,
  "nbformat_minor": 0,
  "metadata": {
    "colab": {
      "name": "STEMREM200.ipynb",
      "provenance": [],
      "authorship_tag": "ABX9TyPLe6av5uxKAvlreWogHpxp",
      "include_colab_link": true
    },
    "kernelspec": {
      "name": "python3",
      "display_name": "Python 3"
    },
    "language_info": {
      "name": "python"
    }
  },
  "cells": [
    {
      "cell_type": "markdown",
      "metadata": {
        "id": "view-in-github",
        "colab_type": "text"
      },
      "source": [
        "<a href=\"https://colab.research.google.com/github/moqri/STEMREM200/blob/main/ESC_vs_iPSC.ipynb\" target=\"_parent\"><img src=\"https://colab.research.google.com/assets/colab-badge.svg\" alt=\"Open In Colab\"/></a>"
      ]
    },
    {
      "cell_type": "code",
      "metadata": {
        "id": "abrbWd3M7Skt"
      },
      "source": [
        "import pandas as pd"
      ],
      "execution_count": 3,
      "outputs": []
    },
    {
      "cell_type": "code",
      "metadata": {
        "id": "dItvCvMj9f1K"
      },
      "source": [
        "rna_seq_file='https://ftp.ncbi.nlm.nih.gov/geo/series/GSE73nnn/GSE73211/suppl/GSE73211_isogenic.TPM.txt.gz'"
      ],
      "execution_count": 9,
      "outputs": []
    },
    {
      "cell_type": "code",
      "metadata": {
        "id": "j_Sr_7tp9FEx"
      },
      "source": [
        "tpm=pd.read_table(rna_seq_file)"
      ],
      "execution_count": 10,
      "outputs": []
    },
    {
      "cell_type": "code",
      "metadata": {
        "colab": {
          "base_uri": "https://localhost:8080/",
          "height": 275
        },
        "id": "GfhWsLT89kJo",
        "outputId": "c84b4b73-c8d8-49f3-9533-f53f13c1e364"
      },
      "source": [
        "tpm.head(5)"
      ],
      "execution_count": 12,
      "outputs": [
        {
          "output_type": "execute_result",
          "data": {
            "text/html": [
              "<div>\n",
              "<style scoped>\n",
              "    .dataframe tbody tr th:only-of-type {\n",
              "        vertical-align: middle;\n",
              "    }\n",
              "\n",
              "    .dataframe tbody tr th {\n",
              "        vertical-align: top;\n",
              "    }\n",
              "\n",
              "    .dataframe thead th {\n",
              "        text-align: right;\n",
              "    }\n",
              "</style>\n",
              "<table border=\"1\" class=\"dataframe\">\n",
              "  <thead>\n",
              "    <tr style=\"text-align: right;\">\n",
              "      <th></th>\n",
              "      <th>symbol</th>\n",
              "      <th>hESC SC2-1</th>\n",
              "      <th>hESC SC2-2</th>\n",
              "      <th>hESC SC2-3</th>\n",
              "      <th>hESC SC3-1</th>\n",
              "      <th>hESC SC3-2</th>\n",
              "      <th>hESC SC3-3</th>\n",
              "      <th>hESC GFP12</th>\n",
              "      <th>hESC GFP13</th>\n",
              "      <th>hESC GFP5</th>\n",
              "      <th>hESC GFP2</th>\n",
              "      <th>hESC GFP3</th>\n",
              "      <th>hESC GFP15</th>\n",
              "      <th>hiPSC1</th>\n",
              "      <th>hiPSC2</th>\n",
              "      <th>hiPSC3</th>\n",
              "      <th>hiPSC8</th>\n",
              "      <th>hiPSC9</th>\n",
              "      <th>hiPSC11</th>\n",
              "      <th>hESC SC2-6 Fibroblast</th>\n",
              "      <th>hESC SC3-6 Fibroblast</th>\n",
              "      <th>hESC GFP5 Fibroblast</th>\n",
              "      <th>hESC GFP12 Fibroblast</th>\n",
              "      <th>hESC GFP13 Fibroblast</th>\n",
              "      <th>hESC GFP2 Fibroblast</th>\n",
              "      <th>hESC GFP3 Fibroblast</th>\n",
              "      <th>hESC GFP15Fibroblast</th>\n",
              "      <th>hiPSC1 Fibroblast</th>\n",
              "      <th>hiPSC2 Fibroblast</th>\n",
              "      <th>hiPSC3 Fibroblast</th>\n",
              "      <th>hiPSC8 Fibroblast</th>\n",
              "      <th>hiPSC9 Fibroblast</th>\n",
              "      <th>hiPSC11 Fibroblast</th>\n",
              "      <th>Human_Dermal_Fibroblast</th>\n",
              "    </tr>\n",
              "  </thead>\n",
              "  <tbody>\n",
              "    <tr>\n",
              "      <th>RP11-560A15.3</th>\n",
              "      <td>RP11-560A15.3</td>\n",
              "      <td>0.000000</td>\n",
              "      <td>0.000000</td>\n",
              "      <td>0.000000</td>\n",
              "      <td>0.000000</td>\n",
              "      <td>0.000000</td>\n",
              "      <td>0.000000</td>\n",
              "      <td>0.000000</td>\n",
              "      <td>0.000000</td>\n",
              "      <td>0.000000</td>\n",
              "      <td>0.000000</td>\n",
              "      <td>0.000000</td>\n",
              "      <td>0.000000</td>\n",
              "      <td>0.096714</td>\n",
              "      <td>0.000000</td>\n",
              "      <td>0.000000</td>\n",
              "      <td>0.000000</td>\n",
              "      <td>0.000000</td>\n",
              "      <td>0.000000</td>\n",
              "      <td>0.000000</td>\n",
              "      <td>0.000000</td>\n",
              "      <td>0.000000</td>\n",
              "      <td>0.000000</td>\n",
              "      <td>0.000000</td>\n",
              "      <td>0.000000</td>\n",
              "      <td>0.000000</td>\n",
              "      <td>0.000000</td>\n",
              "      <td>0.000000</td>\n",
              "      <td>0.000000</td>\n",
              "      <td>0.000000</td>\n",
              "      <td>0.000000</td>\n",
              "      <td>0.000000</td>\n",
              "      <td>0.000000</td>\n",
              "      <td>0.000000</td>\n",
              "    </tr>\n",
              "    <tr>\n",
              "      <th>CREB3L1</th>\n",
              "      <td>CREB3L1</td>\n",
              "      <td>11.098906</td>\n",
              "      <td>11.439167</td>\n",
              "      <td>12.447480</td>\n",
              "      <td>6.886064</td>\n",
              "      <td>5.653596</td>\n",
              "      <td>6.754446</td>\n",
              "      <td>11.012172</td>\n",
              "      <td>7.621126</td>\n",
              "      <td>11.815619</td>\n",
              "      <td>5.705730</td>\n",
              "      <td>6.752222</td>\n",
              "      <td>6.313430</td>\n",
              "      <td>8.918602</td>\n",
              "      <td>7.025237</td>\n",
              "      <td>7.302625</td>\n",
              "      <td>4.775793</td>\n",
              "      <td>5.126329</td>\n",
              "      <td>7.543497</td>\n",
              "      <td>157.914551</td>\n",
              "      <td>141.662122</td>\n",
              "      <td>146.480745</td>\n",
              "      <td>154.934558</td>\n",
              "      <td>156.101432</td>\n",
              "      <td>166.712614</td>\n",
              "      <td>75.783944</td>\n",
              "      <td>186.238609</td>\n",
              "      <td>184.953022</td>\n",
              "      <td>163.270489</td>\n",
              "      <td>165.383381</td>\n",
              "      <td>167.468506</td>\n",
              "      <td>154.316037</td>\n",
              "      <td>173.675876</td>\n",
              "      <td>193.024389</td>\n",
              "    </tr>\n",
              "    <tr>\n",
              "      <th>RPS11</th>\n",
              "      <td>RPS11</td>\n",
              "      <td>3385.358989</td>\n",
              "      <td>3250.811157</td>\n",
              "      <td>3301.984295</td>\n",
              "      <td>2840.934509</td>\n",
              "      <td>2839.811164</td>\n",
              "      <td>2845.844446</td>\n",
              "      <td>3293.581132</td>\n",
              "      <td>3128.847523</td>\n",
              "      <td>3421.976296</td>\n",
              "      <td>3164.825934</td>\n",
              "      <td>3191.008986</td>\n",
              "      <td>3183.825373</td>\n",
              "      <td>2992.518992</td>\n",
              "      <td>2916.881794</td>\n",
              "      <td>2776.073933</td>\n",
              "      <td>2794.567964</td>\n",
              "      <td>2654.561686</td>\n",
              "      <td>2689.002242</td>\n",
              "      <td>2376.828835</td>\n",
              "      <td>2737.801658</td>\n",
              "      <td>2227.060103</td>\n",
              "      <td>2247.409559</td>\n",
              "      <td>2271.218661</td>\n",
              "      <td>3204.946239</td>\n",
              "      <td>2427.181734</td>\n",
              "      <td>2449.621520</td>\n",
              "      <td>2155.456392</td>\n",
              "      <td>2114.136652</td>\n",
              "      <td>2189.466240</td>\n",
              "      <td>2795.025142</td>\n",
              "      <td>2962.811335</td>\n",
              "      <td>3046.407602</td>\n",
              "      <td>2769.592246</td>\n",
              "    </tr>\n",
              "    <tr>\n",
              "      <th>RP11-783L4.1</th>\n",
              "      <td>RP11-783L4.1</td>\n",
              "      <td>0.000000</td>\n",
              "      <td>0.000000</td>\n",
              "      <td>0.280735</td>\n",
              "      <td>0.000000</td>\n",
              "      <td>0.000000</td>\n",
              "      <td>0.000000</td>\n",
              "      <td>0.000000</td>\n",
              "      <td>0.000000</td>\n",
              "      <td>0.192976</td>\n",
              "      <td>0.000000</td>\n",
              "      <td>0.000000</td>\n",
              "      <td>0.000000</td>\n",
              "      <td>0.000000</td>\n",
              "      <td>0.000000</td>\n",
              "      <td>0.000000</td>\n",
              "      <td>0.000000</td>\n",
              "      <td>0.000000</td>\n",
              "      <td>0.000000</td>\n",
              "      <td>0.000000</td>\n",
              "      <td>0.000000</td>\n",
              "      <td>0.000000</td>\n",
              "      <td>0.166557</td>\n",
              "      <td>0.000000</td>\n",
              "      <td>0.000000</td>\n",
              "      <td>0.000000</td>\n",
              "      <td>0.000000</td>\n",
              "      <td>0.000000</td>\n",
              "      <td>0.000000</td>\n",
              "      <td>0.000000</td>\n",
              "      <td>0.000000</td>\n",
              "      <td>0.000000</td>\n",
              "      <td>0.000000</td>\n",
              "      <td>0.000000</td>\n",
              "    </tr>\n",
              "    <tr>\n",
              "      <th>PNMA1</th>\n",
              "      <td>PNMA1</td>\n",
              "      <td>33.511536</td>\n",
              "      <td>35.089531</td>\n",
              "      <td>34.163900</td>\n",
              "      <td>34.900165</td>\n",
              "      <td>29.989708</td>\n",
              "      <td>27.379224</td>\n",
              "      <td>39.504944</td>\n",
              "      <td>37.978849</td>\n",
              "      <td>42.192685</td>\n",
              "      <td>35.687738</td>\n",
              "      <td>38.812193</td>\n",
              "      <td>35.485875</td>\n",
              "      <td>41.785477</td>\n",
              "      <td>41.022740</td>\n",
              "      <td>43.549380</td>\n",
              "      <td>34.423147</td>\n",
              "      <td>36.400383</td>\n",
              "      <td>40.357450</td>\n",
              "      <td>42.440364</td>\n",
              "      <td>47.955205</td>\n",
              "      <td>39.200304</td>\n",
              "      <td>41.035460</td>\n",
              "      <td>36.300716</td>\n",
              "      <td>32.742141</td>\n",
              "      <td>69.642335</td>\n",
              "      <td>50.944324</td>\n",
              "      <td>35.721668</td>\n",
              "      <td>44.414922</td>\n",
              "      <td>37.550163</td>\n",
              "      <td>42.315535</td>\n",
              "      <td>48.492435</td>\n",
              "      <td>47.892198</td>\n",
              "      <td>34.528598</td>\n",
              "    </tr>\n",
              "  </tbody>\n",
              "</table>\n",
              "</div>"
            ],
            "text/plain": [
              "                      symbol  ...  Human_Dermal_Fibroblast\n",
              "RP11-560A15.3  RP11-560A15.3  ...                 0.000000\n",
              "CREB3L1              CREB3L1  ...               193.024389\n",
              "RPS11                  RPS11  ...              2769.592246\n",
              "RP11-783L4.1    RP11-783L4.1  ...                 0.000000\n",
              "PNMA1                  PNMA1  ...                34.528598\n",
              "\n",
              "[5 rows x 34 columns]"
            ]
          },
          "metadata": {
            "tags": []
          },
          "execution_count": 12
        }
      ]
    },
    {
      "cell_type": "code",
      "metadata": {
        "colab": {
          "base_uri": "https://localhost:8080/",
          "height": 204
        },
        "id": "_TtC6ikw9nyQ",
        "outputId": "46743d71-bbce-4219-b8e8-f41f89879bf2"
      },
      "source": [
        "hesc='hESC SC2-1'\n",
        "ipsc='hiPSC1'\n",
        "tpm=tpm[[hesc,ipsc]]\n",
        "tpm.head(5)"
      ],
      "execution_count": 21,
      "outputs": [
        {
          "output_type": "execute_result",
          "data": {
            "text/html": [
              "<div>\n",
              "<style scoped>\n",
              "    .dataframe tbody tr th:only-of-type {\n",
              "        vertical-align: middle;\n",
              "    }\n",
              "\n",
              "    .dataframe tbody tr th {\n",
              "        vertical-align: top;\n",
              "    }\n",
              "\n",
              "    .dataframe thead th {\n",
              "        text-align: right;\n",
              "    }\n",
              "</style>\n",
              "<table border=\"1\" class=\"dataframe\">\n",
              "  <thead>\n",
              "    <tr style=\"text-align: right;\">\n",
              "      <th></th>\n",
              "      <th>hESC SC2-1</th>\n",
              "      <th>hiPSC1</th>\n",
              "    </tr>\n",
              "  </thead>\n",
              "  <tbody>\n",
              "    <tr>\n",
              "      <th>RP11-560A15.3</th>\n",
              "      <td>0.000000</td>\n",
              "      <td>0.096714</td>\n",
              "    </tr>\n",
              "    <tr>\n",
              "      <th>CREB3L1</th>\n",
              "      <td>11.098906</td>\n",
              "      <td>8.918602</td>\n",
              "    </tr>\n",
              "    <tr>\n",
              "      <th>RPS11</th>\n",
              "      <td>3385.358989</td>\n",
              "      <td>2992.518992</td>\n",
              "    </tr>\n",
              "    <tr>\n",
              "      <th>RP11-783L4.1</th>\n",
              "      <td>0.000000</td>\n",
              "      <td>0.000000</td>\n",
              "    </tr>\n",
              "    <tr>\n",
              "      <th>PNMA1</th>\n",
              "      <td>33.511536</td>\n",
              "      <td>41.785477</td>\n",
              "    </tr>\n",
              "  </tbody>\n",
              "</table>\n",
              "</div>"
            ],
            "text/plain": [
              "                hESC SC2-1       hiPSC1\n",
              "RP11-560A15.3     0.000000     0.096714\n",
              "CREB3L1          11.098906     8.918602\n",
              "RPS11          3385.358989  2992.518992\n",
              "RP11-783L4.1      0.000000     0.000000\n",
              "PNMA1            33.511536    41.785477"
            ]
          },
          "metadata": {
            "tags": []
          },
          "execution_count": 21
        }
      ]
    },
    {
      "cell_type": "code",
      "metadata": {
        "colab": {
          "base_uri": "https://localhost:8080/",
          "height": 282
        },
        "id": "ZdLMxijJ-Icn",
        "outputId": "03620920-3f9a-4732-eb7a-761cc4411867"
      },
      "source": [
        "tpm[hesc].plot()"
      ],
      "execution_count": 22,
      "outputs": [
        {
          "output_type": "execute_result",
          "data": {
            "text/plain": [
              "<matplotlib.axes._subplots.AxesSubplot at 0x7f9bcb868a90>"
            ]
          },
          "metadata": {
            "tags": []
          },
          "execution_count": 22
        },
        {
          "output_type": "display_data",
          "data": {
            "image/png": "[encoded data removed]",
            "text/plain": [
              "<Figure size 432x288 with 1 Axes>"
            ]
          },
          "metadata": {
            "tags": [],
            "needs_background": "light"
          }
        }
      ]
    },
    {
      "cell_type": "code",
      "metadata": {
        "colab": {
          "base_uri": "https://localhost:8080/",
          "height": 282
        },
        "id": "dnP6o7oP-MYg",
        "outputId": "574f9df4-3f03-490a-ad8f-af37e8969480"
      },
      "source": [
        "tpm[ipsc].plot()"
      ],
      "execution_count": 23,
      "outputs": [
        {
          "output_type": "execute_result",
          "data": {
            "text/plain": [
              "<matplotlib.axes._subplots.AxesSubplot at 0x7f9bcb859590>"
            ]
          },
          "metadata": {
            "tags": []
          },
          "execution_count": 23
        },
        {
          "output_type": "display_data",
          "data": {
            "image/png": "[encoded data removed]",
            "text/plain": [
              "<Figure size 432x288 with 1 Axes>"
            ]
          },
          "metadata": {
            "tags": [],
            "needs_background": "light"
          }
        }
      ]
    },
    {
      "cell_type": "code",
      "metadata": {
        "colab": {
          "base_uri": "https://localhost:8080/"
        },
        "id": "gghRhMI5-X1_",
        "outputId": "761574b8-6886-435f-e154-bbfc57bde15a"
      },
      "source": [
        "tpm[hesc].sort_values().tail(10)"
      ],
      "execution_count": 28,
      "outputs": [
        {
          "output_type": "execute_result",
          "data": {
            "text/plain": [
              "RP5-857K21.10     5229.393603\n",
              "RPL41             5229.450362\n",
              "NPM1              5230.319396\n",
              "RPL39             5276.907231\n",
              "RPS27             5459.933393\n",
              "TMSB4X            5735.812511\n",
              "GAPDH             6814.810386\n",
              "RPS24             6964.320734\n",
              "RP5-857K21.6      9983.736578\n",
              "EEF1A1           14704.321301\n",
              "Name: hESC SC2-1, dtype: float64"
            ]
          },
          "metadata": {
            "tags": []
          },
          "execution_count": 28
        }
      ]
    },
    {
      "cell_type": "code",
      "metadata": {
        "colab": {
          "base_uri": "https://localhost:8080/"
        },
        "id": "MI8qurSc-i2v",
        "outputId": "d7029275-1143-4b4b-a77f-70f5e979fc0f"
      },
      "source": [
        "tpm[ipsc].sort_values().tail(10)"
      ],
      "execution_count": 29,
      "outputs": [
        {
          "output_type": "execute_result",
          "data": {
            "text/plain": [
              "RPS27             4798.311037\n",
              "RPL41             4876.160291\n",
              "TMSB4X            4942.397506\n",
              "NPM1              5042.073633\n",
              "RP5-857K21.7      5566.856939\n",
              "RPS24             5801.046235\n",
              "GAPDH             6087.883650\n",
              "RP5-857K21.10     6581.708453\n",
              "RP5-857K21.6      8581.479351\n",
              "EEF1A1           11682.453890\n",
              "Name: hiPSC1, dtype: float64"
            ]
          },
          "metadata": {
            "tags": []
          },
          "execution_count": 29
        }
      ]
    },
    {
      "cell_type": "code",
      "metadata": {
        "id": "oatKXgDd-1_n"
      },
      "source": [
        ""
      ],
      "execution_count": null,
      "outputs": []
    }
  ]
}